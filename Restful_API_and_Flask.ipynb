{
 "cells": [
  {
   "cell_type": "markdown",
   "id": "f581d615-a278-4ad0-98db-e808fad722e2",
   "metadata": {},
   "source": [
    "Restful API & Flask Theory Questions"
   ]
  },
  {
   "cell_type": "code",
   "execution_count": null,
   "id": "d71fbcf8-a356-4884-b15a-5a1f87e1ddc7",
   "metadata": {},
   "outputs": [],
   "source": [
    "'''\n",
    "Q1. What is a RESTful API\n",
    "Ans: A RESTful API is an application programming interface that follows REST architecture,\n",
    "enabling communication between client and server using standard HTTP methods.\n",
    "\n",
    "Q2. Explain the concept of API specification\n",
    "Ans: An API specification is a detailed description of how an API works, including endpoints,\n",
    "request formats, and responses. It acts as a contract between client and server.\n",
    "\n",
    "Q3. What is Flask, and why is it popular for building APIs\n",
    "Ans: Flask is a lightweight Python web framework. It’s popular for APIs because it’s simple, flexible,\n",
    "and has many extensions for database and authentication.\n",
    "\n",
    "Q4. What is routing in Flask\n",
    "Ans: Routing in Flask maps a URL path to a specific function that handles the request.\n",
    "\n",
    "Q5. How do you create a simple Flask application\n",
    "Ans: You create a Flask app by importing Flask, initializing it, and defining routes with functions that\n",
    "return responses.\n",
    "\n",
    "Q6. What are HTTP methods used in RESTful APIs\n",
    "Ans: HTTP methods include GET, POST, PUT, DELETE, PATCH, used for reading, creating,\n",
    "updating, and deleting resources.\n",
    "\n",
    "Q7. What is the purpose of the @app.route() decorator in Flask\n",
    "Ans: The @app.route() decorator defines the URL path and maps it to a function in Flask.\n",
    "\n",
    "Q8. What is the difference between GET and POST HTTP methods\n",
    "Ans: GET is used for retrieving data, while POST is used to send data to the server for processing.\n",
    "\n",
    "Q9. How do you handle errors in Flask APIs\n",
    "Ans: Errors can be handled in Flask using error handlers (@app.errorhandler) or try-except blocks\n",
    "within routes.\n",
    "\n",
    "Q10. How do you connect Flask to a SQL database\n",
    "Ans: You connect Flask to SQL databases using libraries like Flask-SQLAlchemy with proper\n",
    "database URI.\n",
    "\n",
    "Q11. What is the role of Flask-SQLAlchemy\n",
    "Ans: Flask-SQLAlchemy provides ORM support, making database interactions easier with Python\n",
    "objects.\n",
    "\n",
    "Q12. What are Flask blueprints, and how are they useful\n",
    "Ans: Blueprints organize Flask apps into smaller, reusable components for better structure.\n",
    "\n",
    "Q13. What is the purpose of Flask's request object\n",
    "Ans: The request object in Flask stores data about incoming requests (form data, headers, etc.).\n",
    "\n",
    "Q14. How do you create a RESTful API endpoint using Flask\n",
    "Ans: A RESTful endpoint is created by defining routes with appropriate HTTP methods that return\n",
    "structured responses.\n",
    "\n",
    "Q15. What is the purpose of Flask's jsonify() function\n",
    "Ans: The jsonify() function converts Python dictionaries to JSON responses easily.\n",
    "\n",
    "Q16. Explain Flask’s url_for() function\n",
    "Ans: url_for() generates dynamic URLs for routes, making code flexible and avoiding hardcoding.\n",
    "\n",
    "Q17. How does Flask handle static files (CSS, JavaScript, etc.)\n",
    "Ans: Static files (CSS, JS, images) are stored in a 'static' folder and served automatically by Flask.\n",
    "\n",
    "Q18. What is an API specification, and how does it help in building a Flask API\n",
    "Ans: An API specification ensures consistency and helps developers understand how to use the\n",
    "API correctly.\n",
    "\n",
    "Q19. What are HTTP status codes, and why are they important in a Flask API\n",
    "Ans: HTTP status codes indicate the result of an API request, e.g., 200 (OK), 404 (Not Found), 500\n",
    "(Server Error).\n",
    "\n",
    "Q20. How do you handle POST requests in Flask\n",
    "Ans: POST requests in Flask are handled using request.form or request.json after defining routes\n",
    "with POST method.\n",
    "\n",
    "Q21. How would you secure a Flask API\n",
    "Ans: Flask APIs can be secured with authentication, authorization, HTTPS, and API tokens.\n",
    "\n",
    "Q22. What is the significance of the Flask-RESTful extension\n",
    "Ans: Flask-RESTful simplifies building REST APIs with tools like Resource classes and automatic\n",
    "routing.\n",
    "\n",
    "Q23. What is the role of Flask’s session object?\n",
    "Ans: Flask’s session object stores data for individual users across requests using cookies.\n",
    "'''"
   ]
  },
  {
   "cell_type": "markdown",
   "id": "908a951f-6aaa-49f2-a39e-68b42fb50d7e",
   "metadata": {},
   "source": [
    "Practical Questions"
   ]
  },
  {
   "cell_type": "code",
   "execution_count": 1,
   "id": "54e33e14-1748-479b-8cff-414b63abb9c6",
   "metadata": {},
   "outputs": [
    {
     "name": "stdout",
     "output_type": "stream",
     "text": [
      " * Serving Flask app '__main__'\n",
      " * Debug mode: on\n"
     ]
    },
    {
     "name": "stderr",
     "output_type": "stream",
     "text": [
      "WARNING: This is a development server. Do not use it in a production deployment. Use a production WSGI server instead.\n",
      " * Running on http://127.0.0.1:5000\n",
      "Press CTRL+C to quit\n",
      " * Restarting with watchdog (windowsapi)\n"
     ]
    },
    {
     "ename": "SystemExit",
     "evalue": "1",
     "output_type": "error",
     "traceback": [
      "An exception has occurred, use %tb to see the full traceback.\n",
      "\u001b[1;31mSystemExit\u001b[0m\u001b[1;31m:\u001b[0m 1\n"
     ]
    },
    {
     "name": "stderr",
     "output_type": "stream",
     "text": [
      "C:\\Users\\DELL\\anaconda3\\Lib\\site-packages\\IPython\\core\\interactiveshell.py:3561: UserWarning: To exit: use 'exit', 'quit', or Ctrl-D.\n",
      "  warn(\"To exit: use 'exit', 'quit', or Ctrl-D.\", stacklevel=1)\n"
     ]
    }
   ],
   "source": [
    "#1. How do you create a basic Flask application?\n",
    "\n",
    "from flask import Flask\n",
    "\n",
    "# Create the Flask app\n",
    "app = Flask(__name__)\n",
    "\n",
    "# Define a route\n",
    "@app.route(\"/\")\n",
    "def home():\n",
    "    return \"Hello, Flask! This is my first app.\"\n",
    "\n",
    "# Run the app\n",
    "if __name__ == \"__main__\":\n",
    "    app.run(debug=True)"
   ]
  },
  {
   "cell_type": "code",
   "execution_count": 2,
   "id": "e2de15e5-49de-446e-ac56-41085d4acb70",
   "metadata": {},
   "outputs": [
    {
     "name": "stdout",
     "output_type": "stream",
     "text": [
      " * Serving Flask app '__main__'\n",
      " * Debug mode: on\n"
     ]
    },
    {
     "name": "stderr",
     "output_type": "stream",
     "text": [
      "WARNING: This is a development server. Do not use it in a production deployment. Use a production WSGI server instead.\n",
      " * Running on http://127.0.0.1:5000\n",
      "Press CTRL+C to quit\n",
      " * Restarting with watchdog (windowsapi)\n"
     ]
    },
    {
     "ename": "SystemExit",
     "evalue": "1",
     "output_type": "error",
     "traceback": [
      "An exception has occurred, use %tb to see the full traceback.\n",
      "\u001b[1;31mSystemExit\u001b[0m\u001b[1;31m:\u001b[0m 1\n"
     ]
    }
   ],
   "source": [
    "#2. How do you serve static files like images or CSS in Flask?\n",
    "\n",
    "from flask import Flask, render_template\n",
    "\n",
    "# Create Flask app\n",
    "app = Flask(__name__)\n",
    "\n",
    "# Route for homepage\n",
    "@app.route(\"/\")\n",
    "def home():\n",
    "    return render_template(\"index.html\")\n",
    "\n",
    "if __name__ == \"__main__\":\n",
    "    app.run(debug=True)"
   ]
  },
  {
   "cell_type": "code",
   "execution_count": 3,
   "id": "01056409-d2dc-41ac-a26f-aec5b54d7937",
   "metadata": {},
   "outputs": [
    {
     "name": "stdout",
     "output_type": "stream",
     "text": [
      " * Serving Flask app '__main__'\n",
      " * Debug mode: on\n"
     ]
    },
    {
     "name": "stderr",
     "output_type": "stream",
     "text": [
      "WARNING: This is a development server. Do not use it in a production deployment. Use a production WSGI server instead.\n",
      " * Running on http://127.0.0.1:5000\n",
      "Press CTRL+C to quit\n",
      " * Restarting with watchdog (windowsapi)\n"
     ]
    },
    {
     "ename": "SystemExit",
     "evalue": "1",
     "output_type": "error",
     "traceback": [
      "An exception has occurred, use %tb to see the full traceback.\n",
      "\u001b[1;31mSystemExit\u001b[0m\u001b[1;31m:\u001b[0m 1\n"
     ]
    }
   ],
   "source": [
    "#3. How do you define different routes with different HTTP methods in Flask?\n",
    "\n",
    "from flask import Flask, request\n",
    "\n",
    "app = Flask(__name__)\n",
    "\n",
    "# Default route (GET only)\n",
    "@app.route(\"/\")\n",
    "def home():\n",
    "    return \"Welcome to the Home Page!\"\n",
    "\n",
    "# Route with GET and POST\n",
    "@app.route(\"/submit\", methods=[\"GET\", \"POST\"])\n",
    "def submit():\n",
    "    if request.method == \"POST\":\n",
    "        data = request.form.get(\"name\")  # Example form field\n",
    "        return f\"Form submitted! Hello, {data}\"\n",
    "    return '''\n",
    "        <form method=\"POST\">\n",
    "            <input type=\"text\" name=\"name\" placeholder=\"Enter your name\">\n",
    "            <input type=\"submit\" value=\"Submit\">\n",
    "        </form>\n",
    "    '''\n",
    "\n",
    "# Route with PUT\n",
    "@app.route(\"/update\", methods=[\"PUT\"])\n",
    "def update():\n",
    "    return \"Update request received!\"\n",
    "\n",
    "# Route with DELETE\n",
    "@app.route(\"/delete\", methods=[\"DELETE\"])\n",
    "def delete():\n",
    "    return \"Delete request received!\"\n",
    "\n",
    "if __name__ == \"__main__\":\n",
    "    app.run(debug=True)"
   ]
  },
  {
   "cell_type": "code",
   "execution_count": 4,
   "id": "0a98e378-7b3e-4c92-b3a1-20789ba02ff4",
   "metadata": {},
   "outputs": [
    {
     "name": "stdout",
     "output_type": "stream",
     "text": [
      " * Serving Flask app '__main__'\n",
      " * Debug mode: on\n"
     ]
    },
    {
     "name": "stderr",
     "output_type": "stream",
     "text": [
      "WARNING: This is a development server. Do not use it in a production deployment. Use a production WSGI server instead.\n",
      " * Running on http://127.0.0.1:5000\n",
      "Press CTRL+C to quit\n",
      " * Restarting with watchdog (windowsapi)\n"
     ]
    },
    {
     "ename": "SystemExit",
     "evalue": "1",
     "output_type": "error",
     "traceback": [
      "An exception has occurred, use %tb to see the full traceback.\n",
      "\u001b[1;31mSystemExit\u001b[0m\u001b[1;31m:\u001b[0m 1\n"
     ]
    }
   ],
   "source": [
    "#4. How do you render HTML templates in Flask ?\n",
    "\n",
    "from flask import Flask, render_template\n",
    "\n",
    "app = Flask(__name__)\n",
    "\n",
    "@app.route(\"/\")\n",
    "def home():\n",
    "    # Render the index.html template\n",
    "    return render_template(\"index.html\")\n",
    "\n",
    "@app.route(\"/about\")\n",
    "def about():\n",
    "    return render_template(\"about.html\")\n",
    "\n",
    "if __name__ == \"__main__\":\n",
    "    app.run(debug=True)"
   ]
  },
  {
   "cell_type": "code",
   "execution_count": 5,
   "id": "75076787-a9f3-444d-84c7-5d7e5e67de18",
   "metadata": {},
   "outputs": [
    {
     "name": "stdout",
     "output_type": "stream",
     "text": [
      " * Serving Flask app '__main__'\n",
      " * Debug mode: on\n"
     ]
    },
    {
     "name": "stderr",
     "output_type": "stream",
     "text": [
      "WARNING: This is a development server. Do not use it in a production deployment. Use a production WSGI server instead.\n",
      " * Running on http://127.0.0.1:5000\n",
      "Press CTRL+C to quit\n",
      " * Restarting with watchdog (windowsapi)\n"
     ]
    },
    {
     "ename": "SystemExit",
     "evalue": "1",
     "output_type": "error",
     "traceback": [
      "An exception has occurred, use %tb to see the full traceback.\n",
      "\u001b[1;31mSystemExit\u001b[0m\u001b[1;31m:\u001b[0m 1\n"
     ]
    }
   ],
   "source": [
    "#5. How can you generate URLs for routes in Flask using url_for?\n",
    "\n",
    "from flask import Flask, render_template, url_for\n",
    "\n",
    "app = Flask(__name__)\n",
    "\n",
    "@app.route(\"/\")\n",
    "def home():\n",
    "    return render_template(\"index.html\")\n",
    "\n",
    "@app.route(\"/about\")\n",
    "def about():\n",
    "    return \"This is the About Page\"\n",
    "\n",
    "@app.route(\"/user/<username>\")\n",
    "def profile(username):\n",
    "    return f\"Hello, {username}!\"\n",
    "\n",
    "if __name__ == \"__main__\":\n",
    "    app.run(debug=True)"
   ]
  },
  {
   "cell_type": "code",
   "execution_count": 6,
   "id": "d7c2faf0-d1f0-470b-a1fb-bb84aab3864c",
   "metadata": {},
   "outputs": [
    {
     "name": "stdout",
     "output_type": "stream",
     "text": [
      " * Serving Flask app '__main__'\n",
      " * Debug mode: on\n"
     ]
    },
    {
     "name": "stderr",
     "output_type": "stream",
     "text": [
      "WARNING: This is a development server. Do not use it in a production deployment. Use a production WSGI server instead.\n",
      " * Running on http://127.0.0.1:5000\n",
      "Press CTRL+C to quit\n",
      " * Restarting with watchdog (windowsapi)\n"
     ]
    },
    {
     "ename": "SystemExit",
     "evalue": "1",
     "output_type": "error",
     "traceback": [
      "An exception has occurred, use %tb to see the full traceback.\n",
      "\u001b[1;31mSystemExit\u001b[0m\u001b[1;31m:\u001b[0m 1\n"
     ]
    }
   ],
   "source": [
    "#6. How do you handle forms in Flask?\n",
    "\n",
    "from flask import Flask, render_template, request\n",
    "\n",
    "app = Flask(__name__)\n",
    "\n",
    "@app.route(\"/\")\n",
    "def home():\n",
    "    return render_template(\"form.html\")\n",
    "\n",
    "@app.route(\"/submit\", methods=[\"POST\"])\n",
    "def submit():\n",
    "    # Get form data\n",
    "    username = request.form.get(\"username\")\n",
    "    email = request.form.get(\"email\")\n",
    "    return f\"Hello, {username}! Your email is {email}.\"\n",
    "\n",
    "if __name__ == \"__main__\":\n",
    "    app.run(debug=True)"
   ]
  },
  {
   "cell_type": "code",
   "execution_count": 7,
   "id": "4e4410ec-ef75-42b7-9e05-cd5dda4963c3",
   "metadata": {},
   "outputs": [
    {
     "name": "stdout",
     "output_type": "stream",
     "text": [
      " * Serving Flask app '__main__'\n",
      " * Debug mode: on\n"
     ]
    },
    {
     "name": "stderr",
     "output_type": "stream",
     "text": [
      "WARNING: This is a development server. Do not use it in a production deployment. Use a production WSGI server instead.\n",
      " * Running on http://127.0.0.1:5000\n",
      "Press CTRL+C to quit\n",
      " * Restarting with watchdog (windowsapi)\n"
     ]
    },
    {
     "ename": "SystemExit",
     "evalue": "1",
     "output_type": "error",
     "traceback": [
      "An exception has occurred, use %tb to see the full traceback.\n",
      "\u001b[1;31mSystemExit\u001b[0m\u001b[1;31m:\u001b[0m 1\n"
     ]
    }
   ],
   "source": [
    "#7. How can you validate form data in Flask?\n",
    "\n",
    "from flask import Flask, render_template, request\n",
    "\n",
    "app = Flask(__name__)\n",
    "\n",
    "@app.route(\"/\", methods=[\"GET\", \"POST\"])\n",
    "def register():\n",
    "    error = None\n",
    "    if request.method == \"POST\":\n",
    "        username = request.form.get(\"username\")\n",
    "        email = request.form.get(\"email\")\n",
    "\n",
    "        # ---- Validation Rules ----\n",
    "        if not username or not email:\n",
    "            error = \"All fields are required!\"\n",
    "        elif \"@\" not in email:\n",
    "            error = \"Invalid email address!\"\n",
    "        else:\n",
    "            return f\"Welcome, {username}! Your email {email} is valid.\"\n",
    "\n",
    "    return render_template(\"form.html\", error=error)\n",
    "\n",
    "if __name__ == \"__main__\":\n",
    "    app.run(debug=True)"
   ]
  },
  {
   "cell_type": "code",
   "execution_count": 8,
   "id": "50ed2c64-cedf-446b-af94-3321103ac2e7",
   "metadata": {},
   "outputs": [
    {
     "name": "stdout",
     "output_type": "stream",
     "text": [
      " * Serving Flask app '__main__'\n",
      " * Debug mode: on\n"
     ]
    },
    {
     "name": "stderr",
     "output_type": "stream",
     "text": [
      "WARNING: This is a development server. Do not use it in a production deployment. Use a production WSGI server instead.\n",
      " * Running on http://127.0.0.1:5000\n",
      "Press CTRL+C to quit\n",
      " * Restarting with watchdog (windowsapi)\n"
     ]
    },
    {
     "ename": "SystemExit",
     "evalue": "1",
     "output_type": "error",
     "traceback": [
      "An exception has occurred, use %tb to see the full traceback.\n",
      "\u001b[1;31mSystemExit\u001b[0m\u001b[1;31m:\u001b[0m 1\n"
     ]
    }
   ],
   "source": [
    "#8.  How do you manage sessions in Flask?\n",
    "\n",
    "from flask import Flask, session, redirect, url_for, request\n",
    "\n",
    "app = Flask(__name__)\n",
    "app.secret_key = \"supersecretkey\"   # Required to use sessions (keeps data secure)\n",
    "\n",
    "@app.route(\"/\")\n",
    "def home():\n",
    "    if \"username\" in session:\n",
    "        return f\"Hello, {session['username']}! <br><a href='/logout'>Logout</a>\"\n",
    "    return \"You are not logged in. <a href='/login'>Login here</a>\"\n",
    "\n",
    "@app.route(\"/login\", methods=[\"GET\", \"POST\"])\n",
    "def login():\n",
    "    if request.method == \"POST\":\n",
    "        session[\"username\"] = request.form[\"username\"]   # Save data in session\n",
    "        return redirect(url_for(\"home\"))\n",
    "    return '''\n",
    "        <form method=\"POST\">\n",
    "            <input type=\"text\" name=\"username\" placeholder=\"Enter username\">\n",
    "            <input type=\"submit\" value=\"Login\">\n",
    "        </form>\n",
    "    '''\n",
    "\n",
    "@app.route(\"/logout\")\n",
    "def logout():\n",
    "    session.pop(\"username\", None)   # Remove data from session\n",
    "    return redirect(url_for(\"home\"))\n",
    "\n",
    "if __name__ == \"__main__\":\n",
    "    app.run(debug=True)\n"
   ]
  },
  {
   "cell_type": "code",
   "execution_count": 9,
   "id": "7bfe7343-bb2c-4e5f-9331-908491c4fce7",
   "metadata": {},
   "outputs": [
    {
     "name": "stdout",
     "output_type": "stream",
     "text": [
      " * Serving Flask app '__main__'\n",
      " * Debug mode: on\n"
     ]
    },
    {
     "name": "stderr",
     "output_type": "stream",
     "text": [
      "WARNING: This is a development server. Do not use it in a production deployment. Use a production WSGI server instead.\n",
      " * Running on http://127.0.0.1:5000\n",
      "Press CTRL+C to quit\n",
      " * Restarting with watchdog (windowsapi)\n"
     ]
    },
    {
     "ename": "SystemExit",
     "evalue": "1",
     "output_type": "error",
     "traceback": [
      "An exception has occurred, use %tb to see the full traceback.\n",
      "\u001b[1;31mSystemExit\u001b[0m\u001b[1;31m:\u001b[0m 1\n"
     ]
    }
   ],
   "source": [
    "#9. How do you redirect to a different route in Flask?\n",
    "\n",
    "from flask import Flask, redirect, url_for\n",
    "\n",
    "app = Flask(__name__)\n",
    "\n",
    "@app.route(\"/\")\n",
    "def home():\n",
    "    return \"Welcome to the Home Page!\"\n",
    "\n",
    "@app.route(\"/login\")\n",
    "def login():\n",
    "    return \"This is the Login Page\"\n",
    "\n",
    "@app.route(\"/go-to-login\")\n",
    "def go_to_login():\n",
    "    # Redirect user to login route\n",
    "    return redirect(url_for(\"login\"))\n",
    "\n",
    "if __name__ == \"__main__\":\n",
    "    app.run(debug=True)"
   ]
  },
  {
   "cell_type": "code",
   "execution_count": 10,
   "id": "0117b136-a47f-4566-91db-b3695acac6c7",
   "metadata": {},
   "outputs": [
    {
     "name": "stdout",
     "output_type": "stream",
     "text": [
      " * Serving Flask app '__main__'\n",
      " * Debug mode: on\n"
     ]
    },
    {
     "name": "stderr",
     "output_type": "stream",
     "text": [
      "WARNING: This is a development server. Do not use it in a production deployment. Use a production WSGI server instead.\n",
      " * Running on http://127.0.0.1:5000\n",
      "Press CTRL+C to quit\n",
      " * Restarting with watchdog (windowsapi)\n"
     ]
    },
    {
     "ename": "SystemExit",
     "evalue": "1",
     "output_type": "error",
     "traceback": [
      "An exception has occurred, use %tb to see the full traceback.\n",
      "\u001b[1;31mSystemExit\u001b[0m\u001b[1;31m:\u001b[0m 1\n"
     ]
    }
   ],
   "source": [
    "#10. How do you handle errors in Flask (e.g., 404)?\n",
    "\n",
    "from flask import Flask, render_template\n",
    "\n",
    "app = Flask(__name__)\n",
    "\n",
    "@app.route(\"/\")\n",
    "def home():\n",
    "    return \"Welcome to the Home Page!\"\n",
    "\n",
    "# Custom 404 Error Handler\n",
    "@app.errorhandler(404)\n",
    "def page_not_found(e):\n",
    "    return render_template(\"404.html\"), 404\n",
    "\n",
    "# Custom 500 Error Handler\n",
    "@app.errorhandler(500)\n",
    "def internal_error(e):\n",
    "    return render_template(\"500.html\"), 500\n",
    "\n",
    "if __name__ == \"__main__\":\n",
    "    app.run(debug=True)\n"
   ]
  },
  {
   "cell_type": "code",
   "execution_count": 11,
   "id": "b3d1617e-3d42-4f6e-9409-a04bd21c482f",
   "metadata": {},
   "outputs": [
    {
     "name": "stdout",
     "output_type": "stream",
     "text": [
      " * Serving Flask app '__main__'\n",
      " * Debug mode: on\n"
     ]
    },
    {
     "name": "stderr",
     "output_type": "stream",
     "text": [
      "WARNING: This is a development server. Do not use it in a production deployment. Use a production WSGI server instead.\n",
      " * Running on http://127.0.0.1:5000\n",
      "Press CTRL+C to quit\n",
      " * Restarting with watchdog (windowsapi)\n"
     ]
    },
    {
     "ename": "SystemExit",
     "evalue": "1",
     "output_type": "error",
     "traceback": [
      "An exception has occurred, use %tb to see the full traceback.\n",
      "\u001b[1;31mSystemExit\u001b[0m\u001b[1;31m:\u001b[0m 1\n"
     ]
    }
   ],
   "source": [
    "#11. How do you structure a Flask app using Blueprint?\n",
    "\n",
    "from flask import Flask, Blueprint\n",
    "\n",
    "# ----------------------------\n",
    "# Home Blueprint\n",
    "# ----------------------------\n",
    "home_bp = Blueprint(\"home\", __name__)\n",
    "\n",
    "@home_bp.route(\"/\")\n",
    "def home():\n",
    "    return \"Welcome to the Home Page (served by Home Blueprint)\"\n",
    "\n",
    "# ----------------------------\n",
    "# User Blueprint\n",
    "# ----------------------------\n",
    "user_bp = Blueprint(\"user\", __name__)\n",
    "\n",
    "@user_bp.route(\"/profile\")\n",
    "def profile():\n",
    "    return \"This is the User Profile Page (served by User Blueprint)\"\n",
    "\n",
    "# ----------------------------\n",
    "# Main App\n",
    "# ----------------------------\n",
    "app = Flask(__name__)\n",
    "\n",
    "# Register Blueprints\n",
    "app.register_blueprint(home_bp)\n",
    "app.register_blueprint(user_bp, url_prefix=\"/user\")\n",
    "\n",
    "if __name__ == \"__main__\":\n",
    "    app.run(debug=True)"
   ]
  },
  {
   "cell_type": "code",
   "execution_count": 12,
   "id": "37dc5fc1-75c3-45bd-8788-14460d26bc31",
   "metadata": {},
   "outputs": [
    {
     "name": "stdout",
     "output_type": "stream",
     "text": [
      " * Serving Flask app '__main__'\n",
      " * Debug mode: on\n"
     ]
    },
    {
     "name": "stderr",
     "output_type": "stream",
     "text": [
      "WARNING: This is a development server. Do not use it in a production deployment. Use a production WSGI server instead.\n",
      " * Running on http://127.0.0.1:5000\n",
      "Press CTRL+C to quit\n",
      " * Restarting with watchdog (windowsapi)\n"
     ]
    },
    {
     "ename": "SystemExit",
     "evalue": "1",
     "output_type": "error",
     "traceback": [
      "An exception has occurred, use %tb to see the full traceback.\n",
      "\u001b[1;31mSystemExit\u001b[0m\u001b[1;31m:\u001b[0m 1\n"
     ]
    }
   ],
   "source": [
    "#12. How do you define a custom Jinja filter in Flask?\n",
    "\n",
    "from flask import Flask, render_template\n",
    "\n",
    "app = Flask(__name__)\n",
    "\n",
    "# ----------------------------\n",
    "# Define a custom filter\n",
    "# ----------------------------\n",
    "def reverse_string(s):\n",
    "    return s[::-1]\n",
    "\n",
    "# Register filter with Flask\n",
    "app.jinja_env.filters[\"reverse\"] = reverse_string\n",
    "# OR: app.template_filter(\"reverse\")(reverse_string)\n",
    "\n",
    "# ----------------------------\n",
    "# Routes\n",
    "# ----------------------------\n",
    "@app.route(\"/\")\n",
    "def home():\n",
    "    return render_template(\"index.html\", name=\"Flask\")\n",
    "\n",
    "if __name__ == \"__main__\":\n",
    "    app.run(debug=True)"
   ]
  },
  {
   "cell_type": "code",
   "execution_count": 13,
   "id": "8c7acdbf-0664-43a1-a20b-4564224cfad8",
   "metadata": {},
   "outputs": [
    {
     "name": "stdout",
     "output_type": "stream",
     "text": [
      " * Serving Flask app '__main__'\n",
      " * Debug mode: on\n"
     ]
    },
    {
     "name": "stderr",
     "output_type": "stream",
     "text": [
      "WARNING: This is a development server. Do not use it in a production deployment. Use a production WSGI server instead.\n",
      " * Running on http://127.0.0.1:5000\n",
      "Press CTRL+C to quit\n",
      " * Restarting with watchdog (windowsapi)\n"
     ]
    },
    {
     "ename": "SystemExit",
     "evalue": "1",
     "output_type": "error",
     "traceback": [
      "An exception has occurred, use %tb to see the full traceback.\n",
      "\u001b[1;31mSystemExit\u001b[0m\u001b[1;31m:\u001b[0m 1\n"
     ]
    }
   ],
   "source": [
    "#13. How can you redirect with query parameters in Flask?\n",
    "\n",
    "from flask import Flask, redirect, url_for, request\n",
    "\n",
    "app = Flask(__name__)\n",
    "\n",
    "@app.route(\"/\")\n",
    "def home():\n",
    "    return \"Welcome to the Home Page!\"\n",
    "\n",
    "@app.route(\"/login\")\n",
    "def login():\n",
    "    # Example query parameter\n",
    "    user = request.args.get(\"user\", \"Guest\")\n",
    "    return f\"Hello {user}, you are on the Login Page\"\n",
    "\n",
    "@app.route(\"/go-to-login\")\n",
    "def go_to_login():\n",
    "    # Redirect to /login with query parameter ?user=Ayush\n",
    "    return redirect(url_for(\"login\", user=\"Ayush\"))\n",
    "\n",
    "if __name__ == \"__main__\":\n",
    "    app.run(debug=True)"
   ]
  },
  {
   "cell_type": "code",
   "execution_count": 14,
   "id": "a2e41e28-dd75-4438-8544-764fb34e0abd",
   "metadata": {},
   "outputs": [
    {
     "name": "stdout",
     "output_type": "stream",
     "text": [
      " * Serving Flask app '__main__'\n",
      " * Debug mode: on\n"
     ]
    },
    {
     "name": "stderr",
     "output_type": "stream",
     "text": [
      "WARNING: This is a development server. Do not use it in a production deployment. Use a production WSGI server instead.\n",
      " * Running on http://127.0.0.1:5000\n",
      "Press CTRL+C to quit\n",
      " * Restarting with watchdog (windowsapi)\n"
     ]
    },
    {
     "ename": "SystemExit",
     "evalue": "1",
     "output_type": "error",
     "traceback": [
      "An exception has occurred, use %tb to see the full traceback.\n",
      "\u001b[1;31mSystemExit\u001b[0m\u001b[1;31m:\u001b[0m 1\n"
     ]
    }
   ],
   "source": [
    "#14. How do you return JSON responses in Flask?\n",
    "\n",
    "from flask import Flask, jsonify\n",
    "\n",
    "app = Flask(__name__)\n",
    "\n",
    "@app.route(\"/api/data\")\n",
    "def get_data():\n",
    "    data = {\n",
    "        \"name\": \"Ayush\",\n",
    "        \"role\": \"Business Analyst\",\n",
    "        \"skills\": [\"SQL\", \"Python\", \"Tableau\"]\n",
    "    }\n",
    "    return jsonify(data)\n",
    "\n",
    "if __name__ == \"__main__\":\n",
    "    app.run(debug=True)"
   ]
  },
  {
   "cell_type": "code",
   "execution_count": 15,
   "id": "8c1c2fc8-5b67-4980-99ff-bb847c29ac5b",
   "metadata": {},
   "outputs": [
    {
     "name": "stdout",
     "output_type": "stream",
     "text": [
      " * Serving Flask app '__main__'\n",
      " * Debug mode: on\n"
     ]
    },
    {
     "name": "stderr",
     "output_type": "stream",
     "text": [
      "WARNING: This is a development server. Do not use it in a production deployment. Use a production WSGI server instead.\n",
      " * Running on http://127.0.0.1:5000\n",
      "Press CTRL+C to quit\n",
      " * Restarting with watchdog (windowsapi)\n"
     ]
    },
    {
     "ename": "SystemExit",
     "evalue": "1",
     "output_type": "error",
     "traceback": [
      "An exception has occurred, use %tb to see the full traceback.\n",
      "\u001b[1;31mSystemExit\u001b[0m\u001b[1;31m:\u001b[0m 1\n"
     ]
    }
   ],
   "source": [
    "#15. How do you capture URL parameters in Flask?\n",
    "\n",
    "from flask import Flask\n",
    "\n",
    "app = Flask(__name__)\n",
    "\n",
    "# Route with a string parameter\n",
    "@app.route(\"/user/<username>\")\n",
    "def show_user(username):\n",
    "    return f\"Hello, {username}!\"\n",
    "\n",
    "# Route with an integer parameter\n",
    "@app.route(\"/post/<int:post_id>\")\n",
    "def show_post(post_id):\n",
    "    return f\"Post ID is {post_id}\"\n",
    "\n",
    "# Route with multiple parameters\n",
    "@app.route(\"/order/<int:order_id>/item/<item_name>\")\n",
    "def show_order(order_id, item_name):\n",
    "    return f\"Order {order_id} contains item: {item_name}\"\n",
    "\n",
    "if __name__ == \"__main__\":\n",
    "    app.run(debug=True)"
   ]
  }
 ],
 "metadata": {
  "kernelspec": {
   "display_name": "Python 3 (ipykernel)",
   "language": "python",
   "name": "python3"
  },
  "language_info": {
   "codemirror_mode": {
    "name": "ipython",
    "version": 3
   },
   "file_extension": ".py",
   "mimetype": "text/x-python",
   "name": "python",
   "nbconvert_exporter": "python",
   "pygments_lexer": "ipython3",
   "version": "3.11.7"
  }
 },
 "nbformat": 4,
 "nbformat_minor": 5
}
